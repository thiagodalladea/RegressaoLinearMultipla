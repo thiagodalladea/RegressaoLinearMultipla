{
 "cells": [
  {
   "cell_type": "markdown",
   "metadata": {},
   "source": [
    "### Cálculo da expectativa de vida, um estudo usando regressão linear múltipla"
   ]
  },
  {
   "cell_type": "code",
   "execution_count": 57,
   "metadata": {},
   "outputs": [],
   "source": [
    "# Importando as bibliotecas necessárias\n",
    "import pandas as pd\n",
    "import numpy as np\n",
    "from sklearn.model_selection import train_test_split\n"
   ]
  },
  {
   "cell_type": "code",
   "execution_count": 58,
   "metadata": {},
   "outputs": [
    {
     "data": {
      "text/html": [
       "<div>\n",
       "<style scoped>\n",
       "    .dataframe tbody tr th:only-of-type {\n",
       "        vertical-align: middle;\n",
       "    }\n",
       "\n",
       "    .dataframe tbody tr th {\n",
       "        vertical-align: top;\n",
       "    }\n",
       "\n",
       "    .dataframe thead th {\n",
       "        text-align: right;\n",
       "    }\n",
       "</style>\n",
       "<table border=\"1\" class=\"dataframe\">\n",
       "  <thead>\n",
       "    <tr style=\"text-align: right;\">\n",
       "      <th></th>\n",
       "      <th>País</th>\n",
       "      <th>Renda per Cápita (US$)</th>\n",
       "      <th>PIB (US$ bilhões)</th>\n",
       "      <th>População (milhões)</th>\n",
       "      <th>Expectativa de Vida (anos)</th>\n",
       "    </tr>\n",
       "  </thead>\n",
       "  <tbody>\n",
       "    <tr>\n",
       "      <th>0</th>\n",
       "      <td>Estados Unidos</td>\n",
       "      <td>65.118</td>\n",
       "      <td>21433</td>\n",
       "      <td>331.0</td>\n",
       "      <td>79.11</td>\n",
       "    </tr>\n",
       "    <tr>\n",
       "      <th>1</th>\n",
       "      <td>China</td>\n",
       "      <td>10.262</td>\n",
       "      <td>14342</td>\n",
       "      <td>1402.0</td>\n",
       "      <td>76.91</td>\n",
       "    </tr>\n",
       "    <tr>\n",
       "      <th>2</th>\n",
       "      <td>Japão</td>\n",
       "      <td>40.847</td>\n",
       "      <td>5082</td>\n",
       "      <td>126.3</td>\n",
       "      <td>84.67</td>\n",
       "    </tr>\n",
       "    <tr>\n",
       "      <th>3</th>\n",
       "      <td>Alemanha</td>\n",
       "      <td>46.259</td>\n",
       "      <td>3861</td>\n",
       "      <td>83.2</td>\n",
       "      <td>81.33</td>\n",
       "    </tr>\n",
       "    <tr>\n",
       "      <th>4</th>\n",
       "      <td>Índia</td>\n",
       "      <td>2.338</td>\n",
       "      <td>2869</td>\n",
       "      <td>1366.0</td>\n",
       "      <td>69.66</td>\n",
       "    </tr>\n",
       "  </tbody>\n",
       "</table>\n",
       "</div>"
      ],
      "text/plain": [
       "             País  Renda per Cápita (US$)  PIB (US$ bilhões)  \\\n",
       "0  Estados Unidos                  65.118              21433   \n",
       "1           China                  10.262              14342   \n",
       "2           Japão                  40.847               5082   \n",
       "3        Alemanha                  46.259               3861   \n",
       "4           Índia                   2.338               2869   \n",
       "\n",
       "   População (milhões)  Expectativa de Vida (anos)  \n",
       "0                331.0                       79.11  \n",
       "1               1402.0                       76.91  \n",
       "2                126.3                       84.67  \n",
       "3                 83.2                       81.33  \n",
       "4               1366.0                       69.66  "
      ]
     },
     "execution_count": 58,
     "metadata": {},
     "output_type": "execute_result"
    }
   ],
   "source": [
    "# Importando dados para o estudo\n",
    "data = pd.read_csv('expec_vida.csv')\n",
    "\n",
    "# Separação das variáveis independentes (Renda per Cápita (US$), PIB (US$ bilhões), População (milhões)) e dependentes (Expectativa de Vida (anos))\n",
    "x = data[['Renda per Cápita (US$)', 'PIB (US$ bilhões)', 'População (milhões)']].values\n",
    "y = data['Expectativa de Vida (anos)'].values\n",
    "\n",
    "# Salvando os países para futuramente colocar na previsão\n",
    "countries = data['País'].values\n",
    "\n",
    "data.head()"
   ]
  },
  {
   "cell_type": "code",
   "execution_count": 59,
   "metadata": {},
   "outputs": [],
   "source": [
    "# Divisao dos dados em treino e teste\n",
    "x_train, x_test, y_train, y_test, countries_train, countries_test = train_test_split(x, y, countries, test_size=5, random_state=2)"
   ]
  },
  {
   "cell_type": "code",
   "execution_count": 60,
   "metadata": {},
   "outputs": [
    {
     "name": "stdout",
     "output_type": "stream",
     "text": [
      "Conjunto de treino: 44\n",
      "Conjunto de teste: 5\n"
     ]
    }
   ],
   "source": [
    "# Verificando o tamanho dos conjuntos\n",
    "print(f\"Conjunto de treino: {len(x_train)}\")\n",
    "print(f\"Conjunto de teste: {len(x_test)}\")"
   ]
  },
  {
   "cell_type": "code",
   "execution_count": 61,
   "metadata": {},
   "outputs": [],
   "source": [
    "# Adicionar uma coluna com o valor \"1\" para o termo de intercepto\n",
    "x_train_intercepto = np.c_[np.ones(x_train.shape[0]), x_train]\n",
    "x_test_intercepto = np.c_[np.ones(x_test.shape[0]), x_test]"
   ]
  },
  {
   "cell_type": "code",
   "execution_count": 62,
   "metadata": {},
   "outputs": [],
   "source": [
    "# Calculo  dos coeficientes beta usando a fórmula dos mínimos quadrados\n",
    "beta = np.linalg.inv(x_train_intercepto.T @ x_train_intercepto) @ x_train_intercepto.T @ y_train\n",
    "\n",
    "# Fazendo as previsões no conjunto de teste\n",
    "y_pred = x_test_intercepto @ beta"
   ]
  },
  {
   "cell_type": "code",
   "execution_count": 63,
   "metadata": {},
   "outputs": [],
   "source": [
    "# Calculo do erro quadrático médio\n",
    "mse = np.mean((y_test - y_pred) ** 2)"
   ]
  },
  {
   "cell_type": "code",
   "execution_count": 64,
   "metadata": {},
   "outputs": [
    {
     "name": "stdout",
     "output_type": "stream",
     "text": [
      "beta: [ 7.35007313e+01  1.65230481e-01  3.64466839e-05 -2.62340295e-03]\n",
      "mse: 6.581703789849567\n"
     ]
    }
   ],
   "source": [
    "# Exibindo resultados\n",
    "print(\"beta:\", beta)\n",
    "print(\"mse:\", mse)"
   ]
  },
  {
   "cell_type": "code",
   "execution_count": 67,
   "metadata": {},
   "outputs": [
    {
     "data": {
      "text/html": [
       "<div>\n",
       "<style scoped>\n",
       "    .dataframe tbody tr th:only-of-type {\n",
       "        vertical-align: middle;\n",
       "    }\n",
       "\n",
       "    .dataframe tbody tr th {\n",
       "        vertical-align: top;\n",
       "    }\n",
       "\n",
       "    .dataframe thead th {\n",
       "        text-align: right;\n",
       "    }\n",
       "</style>\n",
       "<table border=\"1\" class=\"dataframe\">\n",
       "  <thead>\n",
       "    <tr style=\"text-align: right;\">\n",
       "      <th></th>\n",
       "      <th>País</th>\n",
       "      <th>Real</th>\n",
       "      <th>Previsto</th>\n",
       "    </tr>\n",
       "  </thead>\n",
       "  <tbody>\n",
       "    <tr>\n",
       "      <th>0</th>\n",
       "      <td>Bélgica</td>\n",
       "      <td>81.69</td>\n",
       "      <td>81.170232</td>\n",
       "    </tr>\n",
       "    <tr>\n",
       "      <th>1</th>\n",
       "      <td>Coreia do Sul</td>\n",
       "      <td>82.59</td>\n",
       "      <td>78.686403</td>\n",
       "    </tr>\n",
       "    <tr>\n",
       "      <th>2</th>\n",
       "      <td>Hungria</td>\n",
       "      <td>76.75</td>\n",
       "      <td>76.430810</td>\n",
       "    </tr>\n",
       "    <tr>\n",
       "      <th>3</th>\n",
       "      <td>Holanda</td>\n",
       "      <td>82.17</td>\n",
       "      <td>82.135000</td>\n",
       "    </tr>\n",
       "    <tr>\n",
       "      <th>4</th>\n",
       "      <td>Chile</td>\n",
       "      <td>80.10</td>\n",
       "      <td>75.941012</td>\n",
       "    </tr>\n",
       "  </tbody>\n",
       "</table>\n",
       "</div>"
      ],
      "text/plain": [
       "            País   Real   Previsto\n",
       "0        Bélgica  81.69  81.170232\n",
       "1  Coreia do Sul  82.59  78.686403\n",
       "2        Hungria  76.75  76.430810\n",
       "3        Holanda  82.17  82.135000\n",
       "4          Chile  80.10  75.941012"
      ]
     },
     "execution_count": 67,
     "metadata": {},
     "output_type": "execute_result"
    }
   ],
   "source": [
    "# Valores reais vs previstos\n",
    "previsao = pd.DataFrame({'País': countries_test, 'Real': y_test, 'Previsto': y_pred})\n",
    "\n",
    "previsao"
   ]
  }
 ],
 "metadata": {
  "kernelspec": {
   "display_name": "base",
   "language": "python",
   "name": "python3"
  },
  "language_info": {
   "codemirror_mode": {
    "name": "ipython",
    "version": 3
   },
   "file_extension": ".py",
   "mimetype": "text/x-python",
   "name": "python",
   "nbconvert_exporter": "python",
   "pygments_lexer": "ipython3",
   "version": "3.11.7"
  }
 },
 "nbformat": 4,
 "nbformat_minor": 2
}
